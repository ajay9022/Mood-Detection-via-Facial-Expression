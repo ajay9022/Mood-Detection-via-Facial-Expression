{
 "cells": [
  {
   "cell_type": "code",
   "execution_count": 1,
   "metadata": {},
   "outputs": [
    {
     "name": "stderr",
     "output_type": "stream",
     "text": [
      "/anaconda3/lib/python3.6/site-packages/h5py/__init__.py:36: FutureWarning: Conversion of the second argument of issubdtype from `float` to `np.floating` is deprecated. In future, it will be treated as `np.float64 == np.dtype(float).type`.\n",
      "  from ._conv import register_converters as _register_converters\n",
      "Using TensorFlow backend.\n"
     ]
    }
   ],
   "source": [
    "import pandas as pd\n",
    "import numpy as np\n",
    "\n",
    "import matplotlib.pyplot as plt\n",
    "import keras\n",
    "\n",
    "from sklearn.model_selection import train_test_split\n",
    "\n",
    "import warnings\n",
    "warnings.filterwarnings('ignore')\n",
    "\n",
    "import tables"
   ]
  },
  {
   "cell_type": "code",
   "execution_count": 162,
   "metadata": {},
   "outputs": [],
   "source": [
    "from keras.models import Sequential\n",
    "from keras.utils import np_utils \n",
    "\n",
    "from keras.layers import Conv2D, MaxPooling2D\n",
    "\n",
    "from keras.layers import Activation, Flatten, Dropout, Dense\n",
    "\n",
    "\n",
    "from keras.utils import to_categorical"
   ]
  },
  {
   "cell_type": "code",
   "execution_count": 163,
   "metadata": {},
   "outputs": [],
   "source": [
    "emotion=pd.read_csv(\"/Users/ajay/Documents/IPyNote/Emotion/train.csv\")"
   ]
  },
  {
   "cell_type": "code",
   "execution_count": 164,
   "metadata": {},
   "outputs": [
    {
     "data": {
      "text/html": [
       "<div>\n",
       "<style scoped>\n",
       "    .dataframe tbody tr th:only-of-type {\n",
       "        vertical-align: middle;\n",
       "    }\n",
       "\n",
       "    .dataframe tbody tr th {\n",
       "        vertical-align: top;\n",
       "    }\n",
       "\n",
       "    .dataframe thead th {\n",
       "        text-align: right;\n",
       "    }\n",
       "</style>\n",
       "<table border=\"1\" class=\"dataframe\">\n",
       "  <thead>\n",
       "    <tr style=\"text-align: right;\">\n",
       "      <th></th>\n",
       "      <th>Emotion</th>\n",
       "      <th>Pixels</th>\n",
       "    </tr>\n",
       "  </thead>\n",
       "  <tbody>\n",
       "    <tr>\n",
       "      <th>0</th>\n",
       "      <td>3</td>\n",
       "      <td>221 240 251 254 255 255 255 255 255 255 255 25...</td>\n",
       "    </tr>\n",
       "    <tr>\n",
       "      <th>1</th>\n",
       "      <td>6</td>\n",
       "      <td>100 107 108 104 103 113 117 115 120 130 138 14...</td>\n",
       "    </tr>\n",
       "    <tr>\n",
       "      <th>2</th>\n",
       "      <td>4</td>\n",
       "      <td>35 50 56 57 63 76 74 79 85 86 105 133 145 152 ...</td>\n",
       "    </tr>\n",
       "  </tbody>\n",
       "</table>\n",
       "</div>"
      ],
      "text/plain": [
       "   Emotion                                             Pixels\n",
       "0        3  221 240 251 254 255 255 255 255 255 255 255 25...\n",
       "1        6  100 107 108 104 103 113 117 115 120 130 138 14...\n",
       "2        4  35 50 56 57 63 76 74 79 85 86 105 133 145 152 ..."
      ]
     },
     "execution_count": 164,
     "metadata": {},
     "output_type": "execute_result"
    }
   ],
   "source": [
    "emotion.head(3)"
   ]
  },
  {
   "cell_type": "code",
   "execution_count": 165,
   "metadata": {},
   "outputs": [
    {
     "data": {
      "text/plain": [
       "(4178, 2)"
      ]
     },
     "execution_count": 165,
     "metadata": {},
     "output_type": "execute_result"
    }
   ],
   "source": [
    "emotion.shape"
   ]
  },
  {
   "cell_type": "code",
   "execution_count": 166,
   "metadata": {},
   "outputs": [],
   "source": [
    "#emotion['Pixels'].str.split(' ',1,expand=True)\n",
    "splitted = emotion['Pixels'].apply(lambda x: pd.Series(str(x).split(' ')))"
   ]
  },
  {
   "cell_type": "code",
   "execution_count": 167,
   "metadata": {},
   "outputs": [],
   "source": [
    "emotion=pd.concat([emotion,splitted],axis=1)"
   ]
  },
  {
   "cell_type": "code",
   "execution_count": 168,
   "metadata": {},
   "outputs": [],
   "source": [
    "emotion.drop('Pixels',axis=1,inplace=True)"
   ]
  },
  {
   "cell_type": "code",
   "execution_count": 169,
   "metadata": {},
   "outputs": [
    {
     "data": {
      "text/html": [
       "<div>\n",
       "<style scoped>\n",
       "    .dataframe tbody tr th:only-of-type {\n",
       "        vertical-align: middle;\n",
       "    }\n",
       "\n",
       "    .dataframe tbody tr th {\n",
       "        vertical-align: top;\n",
       "    }\n",
       "\n",
       "    .dataframe thead th {\n",
       "        text-align: right;\n",
       "    }\n",
       "</style>\n",
       "<table border=\"1\" class=\"dataframe\">\n",
       "  <thead>\n",
       "    <tr style=\"text-align: right;\">\n",
       "      <th></th>\n",
       "      <th>Emotion</th>\n",
       "      <th>0</th>\n",
       "      <th>1</th>\n",
       "      <th>2</th>\n",
       "      <th>3</th>\n",
       "      <th>4</th>\n",
       "      <th>5</th>\n",
       "      <th>6</th>\n",
       "      <th>7</th>\n",
       "      <th>8</th>\n",
       "      <th>...</th>\n",
       "      <th>2294</th>\n",
       "      <th>2295</th>\n",
       "      <th>2296</th>\n",
       "      <th>2297</th>\n",
       "      <th>2298</th>\n",
       "      <th>2299</th>\n",
       "      <th>2300</th>\n",
       "      <th>2301</th>\n",
       "      <th>2302</th>\n",
       "      <th>2303</th>\n",
       "    </tr>\n",
       "  </thead>\n",
       "  <tbody>\n",
       "    <tr>\n",
       "      <th>0</th>\n",
       "      <td>3</td>\n",
       "      <td>221</td>\n",
       "      <td>240</td>\n",
       "      <td>251</td>\n",
       "      <td>254</td>\n",
       "      <td>255</td>\n",
       "      <td>255</td>\n",
       "      <td>255</td>\n",
       "      <td>255</td>\n",
       "      <td>255</td>\n",
       "      <td>...</td>\n",
       "      <td>105</td>\n",
       "      <td>107</td>\n",
       "      <td>124</td>\n",
       "      <td>41</td>\n",
       "      <td>16</td>\n",
       "      <td>20</td>\n",
       "      <td>38</td>\n",
       "      <td>43</td>\n",
       "      <td>19</td>\n",
       "      <td>16</td>\n",
       "    </tr>\n",
       "    <tr>\n",
       "      <th>1</th>\n",
       "      <td>6</td>\n",
       "      <td>100</td>\n",
       "      <td>107</td>\n",
       "      <td>108</td>\n",
       "      <td>104</td>\n",
       "      <td>103</td>\n",
       "      <td>113</td>\n",
       "      <td>117</td>\n",
       "      <td>115</td>\n",
       "      <td>120</td>\n",
       "      <td>...</td>\n",
       "      <td>136</td>\n",
       "      <td>137</td>\n",
       "      <td>133</td>\n",
       "      <td>123</td>\n",
       "      <td>112</td>\n",
       "      <td>109</td>\n",
       "      <td>108</td>\n",
       "      <td>114</td>\n",
       "      <td>109</td>\n",
       "      <td>101</td>\n",
       "    </tr>\n",
       "  </tbody>\n",
       "</table>\n",
       "<p>2 rows × 2305 columns</p>\n",
       "</div>"
      ],
      "text/plain": [
       "   Emotion    0    1    2    3    4    5    6    7    8 ...  2294 2295 2296  \\\n",
       "0        3  221  240  251  254  255  255  255  255  255 ...   105  107  124   \n",
       "1        6  100  107  108  104  103  113  117  115  120 ...   136  137  133   \n",
       "\n",
       "  2297 2298 2299 2300 2301 2302 2303  \n",
       "0   41   16   20   38   43   19   16  \n",
       "1  123  112  109  108  114  109  101  \n",
       "\n",
       "[2 rows x 2305 columns]"
      ]
     },
     "execution_count": 169,
     "metadata": {},
     "output_type": "execute_result"
    }
   ],
   "source": [
    "emotion.head(2)"
   ]
  },
  {
   "cell_type": "code",
   "execution_count": 170,
   "metadata": {},
   "outputs": [],
   "source": [
    "Y=emotion['Emotion']\n",
    "X=emotion.iloc[:,1:]"
   ]
  },
  {
   "cell_type": "code",
   "execution_count": 171,
   "metadata": {},
   "outputs": [
    {
     "data": {
      "text/plain": [
       "(4178, 2304)"
      ]
     },
     "execution_count": 171,
     "metadata": {},
     "output_type": "execute_result"
    }
   ],
   "source": [
    "X.shape"
   ]
  },
  {
   "cell_type": "code",
   "execution_count": 172,
   "metadata": {},
   "outputs": [
    {
     "data": {
      "text/plain": [
       "(4178,)"
      ]
     },
     "execution_count": 172,
     "metadata": {},
     "output_type": "execute_result"
    }
   ],
   "source": [
    "Y.shape"
   ]
  },
  {
   "cell_type": "code",
   "execution_count": 173,
   "metadata": {},
   "outputs": [],
   "source": [
    "Y=to_categorical(Y)\n",
    "X=X.iloc[:,:].astype('float32')"
   ]
  },
  {
   "cell_type": "code",
   "execution_count": 189,
   "metadata": {},
   "outputs": [
    {
     "data": {
      "text/plain": [
       "<matplotlib.image.AxesImage at 0x1b89a40550>"
      ]
     },
     "execution_count": 189,
     "metadata": {},
     "output_type": "execute_result"
    },
    {
     "data": {
      "image/png": "[encoded data removed]",
      "text/plain": [
       "<Figure size 432x288 with 1 Axes>"
      ]
     },
     "metadata": {},
     "output_type": "display_data"
    }
   ],
   "source": [
    "plt.imshow(X.iloc[8,:].values.reshape(48,48),cmap='binary')"
   ]
  },
  {
   "cell_type": "code",
   "execution_count": 195,
   "metadata": {},
   "outputs": [],
   "source": [
    "X_train,X_test,Y_train,Y_test=train_test_split(X,Y,stratify=Y,random_state=34,test_size=0.25)\n",
    "X_train=X_train.values.reshape(X_train.shape[0],48,48,1)\n",
    "X_test=X_test.values.reshape(X_test.shape[0],48,48,1)\n",
    "\n",
    "\n",
    "X_train = X_train.astype('float32')\n",
    "X_test = X_test.astype('float32')\n",
    "\n",
    "X_train /= 255\n",
    "X_test /= 255\n"
   ]
  },
  {
   "cell_type": "code",
   "execution_count": 199,
   "metadata": {},
   "outputs": [
    {
     "name": "stdout",
     "output_type": "stream",
     "text": [
      "Train on 3133 samples, validate on 1045 samples\n",
      "Epoch 1/30\n",
      "3133/3133 [==============================] - 34s 11ms/step - loss: 1.8477 - acc: 0.2962 - val_loss: 1.9049 - val_acc: 0.3378\n",
      "Epoch 2/30\n",
      "3133/3133 [==============================] - 37s 12ms/step - loss: 1.8016 - acc: 0.3093 - val_loss: 1.7384 - val_acc: 0.3847\n",
      "Epoch 3/30\n",
      "3133/3133 [==============================] - 39s 13ms/step - loss: 1.7486 - acc: 0.3511 - val_loss: 1.8127 - val_acc: 0.2124\n",
      "Epoch 4/30\n",
      "3133/3133 [==============================] - 36s 11ms/step - loss: 1.6143 - acc: 0.4105 - val_loss: 1.5219 - val_acc: 0.4469\n",
      "Epoch 5/30\n",
      "3133/3133 [==============================] - 32s 10ms/step - loss: 1.4514 - acc: 0.4839 - val_loss: 1.5076 - val_acc: 0.4947\n",
      "Epoch 6/30\n",
      "3133/3133 [==============================] - 32s 10ms/step - loss: 1.3027 - acc: 0.5337 - val_loss: 1.1675 - val_acc: 0.6010\n",
      "Epoch 7/30\n",
      "3133/3133 [==============================] - 33s 10ms/step - loss: 1.2237 - acc: 0.5774 - val_loss: 1.2311 - val_acc: 0.6010\n",
      "Epoch 8/30\n",
      "3133/3133 [==============================] - 31s 10ms/step - loss: 1.1003 - acc: 0.6173 - val_loss: 1.0806 - val_acc: 0.6488\n",
      "Epoch 9/30\n",
      "3133/3133 [==============================] - 35s 11ms/step - loss: 1.0532 - acc: 0.6377 - val_loss: 1.6156 - val_acc: 0.4871\n",
      "Epoch 10/30\n",
      "3133/3133 [==============================] - 34s 11ms/step - loss: 0.9953 - acc: 0.6451 - val_loss: 1.1302 - val_acc: 0.6153\n",
      "Epoch 11/30\n",
      "3133/3133 [==============================] - 34s 11ms/step - loss: 0.9393 - acc: 0.6607 - val_loss: 1.2029 - val_acc: 0.5292\n",
      "Epoch 12/30\n",
      "3133/3133 [==============================] - 32s 10ms/step - loss: 0.8863 - acc: 0.6968 - val_loss: 0.9298 - val_acc: 0.6823\n",
      "Epoch 13/30\n",
      "3133/3133 [==============================] - 31s 10ms/step - loss: 0.8443 - acc: 0.7038 - val_loss: 0.8391 - val_acc: 0.7167\n",
      "Epoch 14/30\n",
      "3133/3133 [==============================] - 32s 10ms/step - loss: 0.8133 - acc: 0.7105 - val_loss: 0.8693 - val_acc: 0.6842\n",
      "Epoch 15/30\n",
      "3133/3133 [==============================] - 41s 13ms/step - loss: 0.7387 - acc: 0.7415 - val_loss: 0.9629 - val_acc: 0.6488\n",
      "Epoch 16/30\n",
      "3133/3133 [==============================] - 38s 12ms/step - loss: 0.7432 - acc: 0.7431 - val_loss: 1.1029 - val_acc: 0.6258\n",
      "Epoch 17/30\n",
      "3133/3133 [==============================] - 37s 12ms/step - loss: 0.7043 - acc: 0.7558 - val_loss: 0.8289 - val_acc: 0.7100\n",
      "Epoch 18/30\n",
      "3133/3133 [==============================] - 36s 12ms/step - loss: 0.6465 - acc: 0.7769 - val_loss: 0.8771 - val_acc: 0.6947\n",
      "Epoch 19/30\n",
      "3133/3133 [==============================] - 36s 12ms/step - loss: 0.6043 - acc: 0.7944 - val_loss: 1.0627 - val_acc: 0.6708\n",
      "Epoch 20/30\n",
      "3133/3133 [==============================] - 40s 13ms/step - loss: 0.5738 - acc: 0.8027 - val_loss: 0.7222 - val_acc: 0.7522\n",
      "Epoch 21/30\n",
      "3133/3133 [==============================] - 38s 12ms/step - loss: 0.5425 - acc: 0.8075 - val_loss: 0.8727 - val_acc: 0.7206\n",
      "Epoch 22/30\n",
      "3133/3133 [==============================] - 35s 11ms/step - loss: 0.5511 - acc: 0.7992 - val_loss: 0.8183 - val_acc: 0.7330\n",
      "Epoch 23/30\n",
      "3133/3133 [==============================] - 29s 9ms/step - loss: 0.4748 - acc: 0.8270 - val_loss: 1.2236 - val_acc: 0.6287\n",
      "Epoch 24/30\n",
      "3133/3133 [==============================] - 29s 9ms/step - loss: 0.4934 - acc: 0.8308 - val_loss: 0.7353 - val_acc: 0.7464\n",
      "Epoch 25/30\n",
      "3133/3133 [==============================] - 30s 9ms/step - loss: 0.4155 - acc: 0.8570 - val_loss: 0.9442 - val_acc: 0.7196\n",
      "Epoch 26/30\n",
      "3133/3133 [==============================] - 34s 11ms/step - loss: 0.4195 - acc: 0.8500 - val_loss: 0.7322 - val_acc: 0.7627\n",
      "Epoch 27/30\n",
      "3133/3133 [==============================] - 32s 10ms/step - loss: 0.4386 - acc: 0.8557 - val_loss: 0.7109 - val_acc: 0.7675\n",
      "Epoch 28/30\n",
      "3133/3133 [==============================] - 30s 10ms/step - loss: 0.3727 - acc: 0.8685 - val_loss: 1.4217 - val_acc: 0.5464\n",
      "Epoch 29/30\n",
      "3133/3133 [==============================] - 39s 12ms/step - loss: 0.3957 - acc: 0.8605 - val_loss: 0.6577 - val_acc: 0.7837\n",
      "Epoch 30/30\n",
      "3133/3133 [==============================] - 33s 10ms/step - loss: 0.3076 - acc: 0.8947 - val_loss: 0.7837 - val_acc: 0.7646\n"
     ]
    },
    {
     "data": {
      "text/plain": [
       "[0.7837480186845698, 0.7645933018346722]"
      ]
     },
     "execution_count": 199,
     "metadata": {},
     "output_type": "execute_result"
    }
   ],
   "source": [
    "input_shape=(48,48,1)\n",
    "n_classes=Y_train.shape[1]\n",
    "batch_size=128\n",
    "epochs=30\n",
    "model=Sequential()\n",
    "model.add(Conv2D(filters=32,kernel_size=(4,4),strides=(1,1),padding='same',activation='relu',input_shape=input_shape))\n",
    "\n",
    "model.add(MaxPooling2D(pool_size=(2,2)))#,strides=(1,1)))\n",
    "\n",
    "model.add(Conv2D(filters=64,kernel_size=(4,4),strides=(1,1),padding='same',activation='relu'))\n",
    "model.add(MaxPooling2D(pool_size=(2,2),strides=(1,1)))\n",
    "\n",
    "model.add(Flatten())\n",
    "\n",
    "model.add(Dense(1000,activation='relu'))\n",
    "model.add(Dense(n_classes,activation='softmax'))\n",
    "\n",
    "model.compile(loss=keras.losses.categorical_crossentropy,optimizer=keras.optimizers.SGD(lr=0.05),metrics=[\"accuracy\"])\n",
    "model.fit(X_train,Y_train,batch_size=batch_size,epochs=epochs,verbose=1,validation_data=(X_test,Y_test))\n",
    "\n",
    "model.evaluate(X_test,Y_test,verbose=0)"
   ]
  },
  {
   "cell_type": "code",
   "execution_count": 200,
   "metadata": {},
   "outputs": [],
   "source": [
    "model.save('mymodel.h5')"
   ]
  },
  {
   "cell_type": "code",
   "execution_count": 201,
   "metadata": {},
   "outputs": [],
   "source": [
    "#del model  # deletes the existing model\n",
    "\n",
    "# returns a compiled model\n",
    "# identical to the previous one\n",
    "#model = load_model('my_model.h5')"
   ]
  },
  {
   "cell_type": "code",
   "execution_count": 202,
   "metadata": {},
   "outputs": [
    {
     "name": "stdout",
     "output_type": "stream",
     "text": [
      "Epoch 1/25\n",
      "4178/4178 [==============================] - 40s 10ms/step - loss: 0.4168 - acc: 0.8550\n",
      "Epoch 2/25\n",
      "4178/4178 [==============================] - 39s 9ms/step - loss: 0.4266 - acc: 0.8619\n",
      "Epoch 3/25\n",
      "2560/4178 [=================>............] - ETA: 14s - loss: 0.3410 - acc: 0.8859"
     ]
    },
    {
     "ename": "KeyboardInterrupt",
     "evalue": "",
     "output_type": "error",
     "traceback": [
      "\u001b[0;31m---------------------------------------------------------------------------\u001b[0m",
      "\u001b[0;31mKeyboardInterrupt\u001b[0m                         Traceback (most recent call last)",
      "\u001b[0;32m<ipython-input-202-a6943f429798>\u001b[0m in \u001b[0;36m<module>\u001b[0;34m()\u001b[0m\n\u001b[1;32m      6\u001b[0m \u001b[0;34m\u001b[0m\u001b[0m\n\u001b[1;32m      7\u001b[0m \u001b[0;34m\u001b[0m\u001b[0m\n\u001b[0;32m----> 8\u001b[0;31m \u001b[0mmodel\u001b[0m\u001b[0;34m.\u001b[0m\u001b[0mfit\u001b[0m\u001b[0;34m(\u001b[0m\u001b[0mX\u001b[0m\u001b[0;34m,\u001b[0m\u001b[0mY\u001b[0m\u001b[0;34m,\u001b[0m\u001b[0mbatch_size\u001b[0m\u001b[0;34m=\u001b[0m\u001b[0mbatch_size\u001b[0m\u001b[0;34m,\u001b[0m\u001b[0mepochs\u001b[0m\u001b[0;34m=\u001b[0m\u001b[0;36m25\u001b[0m\u001b[0;34m,\u001b[0m\u001b[0mverbose\u001b[0m\u001b[0;34m=\u001b[0m\u001b[0;36m1\u001b[0m\u001b[0;34m)\u001b[0m\u001b[0;34m\u001b[0m\u001b[0m\n\u001b[0m\u001b[1;32m      9\u001b[0m \u001b[0;34m\u001b[0m\u001b[0m\n\u001b[1;32m     10\u001b[0m \u001b[0;34m\u001b[0m\u001b[0m\n",
      "\u001b[0;32m~/anaconda3/envs/Tensorflow/lib/python3.6/site-packages/keras/engine/training.py\u001b[0m in \u001b[0;36mfit\u001b[0;34m(self, x, y, batch_size, epochs, verbose, callbacks, validation_split, validation_data, shuffle, class_weight, sample_weight, initial_epoch, steps_per_epoch, validation_steps, **kwargs)\u001b[0m\n\u001b[1;32m   1035\u001b[0m                                         \u001b[0minitial_epoch\u001b[0m\u001b[0;34m=\u001b[0m\u001b[0minitial_epoch\u001b[0m\u001b[0;34m,\u001b[0m\u001b[0;34m\u001b[0m\u001b[0m\n\u001b[1;32m   1036\u001b[0m                                         \u001b[0msteps_per_epoch\u001b[0m\u001b[0;34m=\u001b[0m\u001b[0msteps_per_epoch\u001b[0m\u001b[0;34m,\u001b[0m\u001b[0;34m\u001b[0m\u001b[0m\n\u001b[0;32m-> 1037\u001b[0;31m                                         validation_steps=validation_steps)\n\u001b[0m\u001b[1;32m   1038\u001b[0m \u001b[0;34m\u001b[0m\u001b[0m\n\u001b[1;32m   1039\u001b[0m     def evaluate(self, x=None, y=None,\n",
      "\u001b[0;32m~/anaconda3/envs/Tensorflow/lib/python3.6/site-packages/keras/engine/training_arrays.py\u001b[0m in \u001b[0;36mfit_loop\u001b[0;34m(model, f, ins, out_labels, batch_size, epochs, verbose, callbacks, val_f, val_ins, shuffle, callback_metrics, initial_epoch, steps_per_epoch, validation_steps)\u001b[0m\n\u001b[1;32m    197\u001b[0m                     \u001b[0mins_batch\u001b[0m\u001b[0;34m[\u001b[0m\u001b[0mi\u001b[0m\u001b[0;34m]\u001b[0m \u001b[0;34m=\u001b[0m \u001b[0mins_batch\u001b[0m\u001b[0;34m[\u001b[0m\u001b[0mi\u001b[0m\u001b[0;34m]\u001b[0m\u001b[0;34m.\u001b[0m\u001b[0mtoarray\u001b[0m\u001b[0;34m(\u001b[0m\u001b[0;34m)\u001b[0m\u001b[0;34m\u001b[0m\u001b[0m\n\u001b[1;32m    198\u001b[0m \u001b[0;34m\u001b[0m\u001b[0m\n\u001b[0;32m--> 199\u001b[0;31m                 \u001b[0mouts\u001b[0m \u001b[0;34m=\u001b[0m \u001b[0mf\u001b[0m\u001b[0;34m(\u001b[0m\u001b[0mins_batch\u001b[0m\u001b[0;34m)\u001b[0m\u001b[0;34m\u001b[0m\u001b[0m\n\u001b[0m\u001b[1;32m    200\u001b[0m                 \u001b[0mouts\u001b[0m \u001b[0;34m=\u001b[0m \u001b[0mto_list\u001b[0m\u001b[0;34m(\u001b[0m\u001b[0mouts\u001b[0m\u001b[0;34m)\u001b[0m\u001b[0;34m\u001b[0m\u001b[0m\n\u001b[1;32m    201\u001b[0m                 \u001b[0;32mfor\u001b[0m \u001b[0ml\u001b[0m\u001b[0;34m,\u001b[0m \u001b[0mo\u001b[0m \u001b[0;32min\u001b[0m \u001b[0mzip\u001b[0m\u001b[0;34m(\u001b[0m\u001b[0mout_labels\u001b[0m\u001b[0;34m,\u001b[0m \u001b[0mouts\u001b[0m\u001b[0;34m)\u001b[0m\u001b[0;34m:\u001b[0m\u001b[0;34m\u001b[0m\u001b[0m\n",
      "\u001b[0;32m~/anaconda3/envs/Tensorflow/lib/python3.6/site-packages/keras/backend/tensorflow_backend.py\u001b[0m in \u001b[0;36m__call__\u001b[0;34m(self, inputs)\u001b[0m\n\u001b[1;32m   2664\u001b[0m                 \u001b[0;32mreturn\u001b[0m \u001b[0mself\u001b[0m\u001b[0;34m.\u001b[0m\u001b[0m_legacy_call\u001b[0m\u001b[0;34m(\u001b[0m\u001b[0minputs\u001b[0m\u001b[0;34m)\u001b[0m\u001b[0;34m\u001b[0m\u001b[0m\n\u001b[1;32m   2665\u001b[0m \u001b[0;34m\u001b[0m\u001b[0m\n\u001b[0;32m-> 2666\u001b[0;31m             \u001b[0;32mreturn\u001b[0m \u001b[0mself\u001b[0m\u001b[0;34m.\u001b[0m\u001b[0m_call\u001b[0m\u001b[0;34m(\u001b[0m\u001b[0minputs\u001b[0m\u001b[0;34m)\u001b[0m\u001b[0;34m\u001b[0m\u001b[0m\n\u001b[0m\u001b[1;32m   2667\u001b[0m         \u001b[0;32melse\u001b[0m\u001b[0;34m:\u001b[0m\u001b[0;34m\u001b[0m\u001b[0m\n\u001b[1;32m   2668\u001b[0m             \u001b[0;32mif\u001b[0m \u001b[0mpy_any\u001b[0m\u001b[0;34m(\u001b[0m\u001b[0mis_tensor\u001b[0m\u001b[0;34m(\u001b[0m\u001b[0mx\u001b[0m\u001b[0;34m)\u001b[0m \u001b[0;32mfor\u001b[0m \u001b[0mx\u001b[0m \u001b[0;32min\u001b[0m \u001b[0minputs\u001b[0m\u001b[0;34m)\u001b[0m\u001b[0;34m:\u001b[0m\u001b[0;34m\u001b[0m\u001b[0m\n",
      "\u001b[0;32m~/anaconda3/envs/Tensorflow/lib/python3.6/site-packages/keras/backend/tensorflow_backend.py\u001b[0m in \u001b[0;36m_call\u001b[0;34m(self, inputs)\u001b[0m\n\u001b[1;32m   2634\u001b[0m                                 \u001b[0msymbol_vals\u001b[0m\u001b[0;34m,\u001b[0m\u001b[0;34m\u001b[0m\u001b[0m\n\u001b[1;32m   2635\u001b[0m                                 session)\n\u001b[0;32m-> 2636\u001b[0;31m         \u001b[0mfetched\u001b[0m \u001b[0;34m=\u001b[0m \u001b[0mself\u001b[0m\u001b[0;34m.\u001b[0m\u001b[0m_callable_fn\u001b[0m\u001b[0;34m(\u001b[0m\u001b[0;34m*\u001b[0m\u001b[0marray_vals\u001b[0m\u001b[0;34m)\u001b[0m\u001b[0;34m\u001b[0m\u001b[0m\n\u001b[0m\u001b[1;32m   2637\u001b[0m         \u001b[0;32mreturn\u001b[0m \u001b[0mfetched\u001b[0m\u001b[0;34m[\u001b[0m\u001b[0;34m:\u001b[0m\u001b[0mlen\u001b[0m\u001b[0;34m(\u001b[0m\u001b[0mself\u001b[0m\u001b[0;34m.\u001b[0m\u001b[0moutputs\u001b[0m\u001b[0;34m)\u001b[0m\u001b[0;34m]\u001b[0m\u001b[0;34m\u001b[0m\u001b[0m\n\u001b[1;32m   2638\u001b[0m \u001b[0;34m\u001b[0m\u001b[0m\n",
      "\u001b[0;32m~/anaconda3/envs/Tensorflow/lib/python3.6/site-packages/tensorflow/python/client/session.py\u001b[0m in \u001b[0;36m__call__\u001b[0;34m(self, *args)\u001b[0m\n\u001b[1;32m   1449\u001b[0m         \u001b[0;32mif\u001b[0m \u001b[0mself\u001b[0m\u001b[0;34m.\u001b[0m\u001b[0m_session\u001b[0m\u001b[0;34m.\u001b[0m\u001b[0m_created_with_new_api\u001b[0m\u001b[0;34m:\u001b[0m\u001b[0;34m\u001b[0m\u001b[0m\n\u001b[1;32m   1450\u001b[0m           return tf_session.TF_SessionRunCallable(\n\u001b[0;32m-> 1451\u001b[0;31m               self._session._session, self._handle, args, status, None)\n\u001b[0m\u001b[1;32m   1452\u001b[0m         \u001b[0;32melse\u001b[0m\u001b[0;34m:\u001b[0m\u001b[0;34m\u001b[0m\u001b[0m\n\u001b[1;32m   1453\u001b[0m           return tf_session.TF_DeprecatedSessionRunCallable(\n",
      "\u001b[0;31mKeyboardInterrupt\u001b[0m: "
     ]
    }
   ],
   "source": [
    "X=X.values.reshape(X.shape[0],48,48,1)\n",
    "X = X.astype('float32')\n",
    "X = X.astype('float32')\n",
    "\n",
    "X /= 255\n",
    "\n",
    "\n",
    "model.fit(X,Y,batch_size=batch_size,epochs=25,verbose=1)\n",
    "\n",
    "\n",
    "test=pd.read_csv(\"/Users/ajay/Documents/IPyNote/Emotion/test.csv\")\n",
    "test.head(3)\n"
   ]
  },
  {
   "cell_type": "code",
   "execution_count": null,
   "metadata": {},
   "outputs": [],
   "source": [
    "split_test = test['Pixels'].apply(lambda x: pd.Series(str(x).split(' ')))\n",
    "\n",
    "test=pd.concat([test,split_test],axis=1)\n",
    "\n",
    "test.drop('Pixels',axis=1,inplace=True)\n",
    "\n",
    "\n",
    "\n",
    "\n",
    "\n",
    "test=test.iloc[:,:].astype('float32')\n",
    "\n",
    "plt.imshow(test.iloc[8,:].values.reshape(48,48),cmap='binary')\n",
    "\n",
    "X=test.values.reshape(test.shape[0],48,48,1)\n",
    "\n",
    "\n",
    "test = test.astype('float32')\n",
    "test /= 255\n",
    "Y_pred=model.predict(X)"
   ]
  },
  {
   "cell_type": "code",
   "execution_count": null,
   "metadata": {},
   "outputs": [],
   "source": [
    "print(\"type(Y_pred) \",type(Y_pred))\n",
    "Y_pred.shape\n",
    "\n",
    "Y_pred=np.argmax(Y_pred, axis=1)\n",
    "np.set_printoptions(threshold=np.nan)"
   ]
  },
  {
   "cell_type": "code",
   "execution_count": null,
   "metadata": {},
   "outputs": [],
   "source": [
    "model.save('mymodel.h5')"
   ]
  },
  {
   "cell_type": "code",
   "execution_count": null,
   "metadata": {},
   "outputs": [],
   "source": []
  }
 ],
 "metadata": {
  "kernelspec": {
   "display_name": "Python 3",
   "language": "python",
   "name": "python3"
  },
  "language_info": {
   "codemirror_mode": {
    "name": "ipython",
    "version": 3
   },
   "file_extension": ".py",
   "mimetype": "text/x-python",
   "name": "python",
   "nbconvert_exporter": "python",
   "pygments_lexer": "ipython3",
   "version": "3.7.0"
  }
 },
 "nbformat": 4,
 "nbformat_minor": 2
}
